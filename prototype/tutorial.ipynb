{
 "cells": [
  {
   "cell_type": "markdown",
   "metadata": {},
   "source": [
    "# Tutorial\n",
    "\n",
    "This tutorial demonstrates the steps of the algorithm that eventually will constitute the automated process of clustering target regions according to sections, and counting the members of each cluster. The purpose of the tutorial is to motivate the steps included in the algorithm.\n",
    "\n",
    "The algorithm steps included in this tutorial can be summarized as\n",
    "```\n",
    "1. Segmentation of reference image.\n",
    "2. Segmentation of samples image.\n",
    "3. Segmentation of the clusters image.\n",
    "4. Compute target image by overlaying the reference and samples images, while \n",
    "   retaining only the overlapping regions.\n",
    "5. Clustering target regions according to shortest euclidean distance to cluster regions. \n",
    "```\n",
    "\n",
    "The source code of various functions are located in the directory modules.\n",
    "\n",
    "By Severin E. R. Langberg"
   ]
  },
  {
   "cell_type": "code",
   "execution_count": null,
   "metadata": {
    "collapsed": true
   },
   "outputs": [],
   "source": [
    "import numpy as np\n",
    "import matplotlib.pyplot as plt\n",
    "\n",
    "from collections import OrderedDict\n",
    "\n",
    "from skimage import io\n",
    "from skimage.measure import regionprops\n",
    "from skimage.measure import find_contours\n",
    "from skimage.segmentation import join_segmentations\n",
    "\n",
    "from filters import threshold\n",
    "from clustering import nearest_region_clustering\n",
    "from measure import region_selection, region_labeling\n",
    "from segmentation import select_targets, clear_borders\n",
    "\n",
    "\n",
    "from skimage.filter import threshold_otsu, threshold_adaptive, rank\n",
    "from skimage.morphology import label\n",
    "from skimage.measure import regionprops\n",
    "from skimage.feature import peak_local_max\n",
    "from scipy import ndimage\n",
    "from skimage.morphology import disk, watershed\n",
    "import pandas as pd\n",
    "\n",
    "from mpl_toolkits.axes_grid1 import make_axes_locatable\n",
    "from scipy.spatial import distance as dist\n",
    "import scipy.cluster.hierarchy as hier\n",
    "\n",
    "%matplotlib inline\n",
    "\n",
    "plt.rcParams['font.size'] = 16\n",
    "plt.rcParams['axes.facecolor'] = 'black'\n",
    "\n",
    "io.use_plugin('tifffile')"
   ]
  },
  {
   "cell_type": "markdown",
   "metadata": {},
   "source": [
    "## Segmenting the reference image\n",
    "\n",
    "Load reference image"
   ]
  },
  {
   "cell_type": "code",
   "execution_count": null,
   "metadata": {},
   "outputs": [],
   "source": [
    "ref_image = io.imread('./../../nih_material/images/train/refr_train.tif')\n",
    "#ref_image = io.imread('./../../nih_material/images/orig/targets_v2.tif')\n",
    "\n",
    "plt.figure(figsize=(10, 10))\n",
    "plt.imshow(ref_image);\n",
    "plt.title('Reference image');"
   ]
  },
  {
   "cell_type": "markdown",
   "metadata": {},
   "source": [
    "Display histograms"
   ]
  },
  {
   "cell_type": "code",
   "execution_count": null,
   "metadata": {},
   "outputs": [],
   "source": [
    "fig, ax = plt.subplots(ncols=2, figsize=(15, 5))\n",
    "fig.suptitle('Max: {} Min: {} Shape: {}'.format(np.max(ref_image),\n",
    "                                                np.min(ref_image),\n",
    "                                                np.shape(ref_image)))\n",
    "\n",
    "ax[0].hist(ref_image.flatten(), bins=ref_image.max());\n",
    "ax[0].set_title('Image histogram');\n",
    "ax[1].hist(ref_image.flatten(), bins=ref_image.max(), log=True);\n",
    "ax[1].set_title('Log-scale image histogram');\n",
    "\n",
    "plt.tight_layout()\n",
    "fig.subplots_adjust(top=0.80)"
   ]
  },
  {
   "cell_type": "markdown",
   "metadata": {},
   "source": [
    "Thresholding"
   ]
  },
  {
   "cell_type": "code",
   "execution_count": null,
   "metadata": {},
   "outputs": [],
   "source": [
    "thresholds = {\n",
    "    'otsu': threshold(ref_image, algorithm='otsu'), \n",
    "    'yen': threshold(ref_image, algorithm='yen'),\n",
    "    'li': threshold(ref_image, algorithm='li')\n",
    "}\n",
    "\n",
    "fig = plt.figure(figsize=())\n",
    "fig.suptitle('Image thresholding')\n",
    "\n",
    "fig.hist(ref_image.flatten(), bins=ref_image.max());\n",
    "\n",
    "colors = ['w.', 'r.', 'b.']\n",
    "for num, thresh in enumerate(thresholds):\n",
    "    plt.axvline(x=thresh, c=colors[num])"
   ]
  },
  {
   "cell_type": "code",
   "execution_count": null,
   "metadata": {
    "collapsed": true
   },
   "outputs": [],
   "source": []
  },
  {
   "cell_type": "code",
   "execution_count": null,
   "metadata": {
    "collapsed": true
   },
   "outputs": [],
   "source": []
  },
  {
   "cell_type": "code",
   "execution_count": null,
   "metadata": {
    "collapsed": true
   },
   "outputs": [],
   "source": []
  },
  {
   "cell_type": "code",
   "execution_count": null,
   "metadata": {},
   "outputs": [],
   "source": [
    "ref_binary = threshold(ref_image, algorithm='otsu')\n",
    "\n",
    "plt.figure(figsize=(10, 10))\n",
    "plt.imshow(ref_binary, cmap=plt.cm.gray);\n",
    "plt.title('Binary reference image');"
   ]
  },
  {
   "cell_type": "markdown",
   "metadata": {},
   "source": [
    "Remove image artifacts with areas less than a specified limit."
   ]
  },
  {
   "cell_type": "code",
   "execution_count": null,
   "metadata": {},
   "outputs": [],
   "source": [
    "ref_filtered = region_selection(ref_binary, min_area=15)\n",
    "\n",
    "plt.figure(figsize=(10, 10))\n",
    "plt.imshow(ref_filtered, cmap=plt.cm.gray);\n",
    "plt.title('Filtered reference  image');"
   ]
  },
  {
   "cell_type": "markdown",
   "metadata": {},
   "source": [
    "Compare the binary version of the filtered reference image to the original "
   ]
  },
  {
   "cell_type": "code",
   "execution_count": null,
   "metadata": {},
   "outputs": [],
   "source": [
    "fig, ax = plt.subplots(ncols=2, figsize=(15, 5), sharey=True)\n",
    "\n",
    "ax[0].imshow(ref_image, cmap=plt.cm.gray);\n",
    "ax[0].set_title('Original reference image');\n",
    "ax[1].imshow(ref_filtered, cmap=plt.cm.gray)\n",
    "ax[1].set_title('Filtered reference image');"
   ]
  },
  {
   "cell_type": "markdown",
   "metadata": {},
   "source": [
    "## Segmenting the samples image\n",
    "\n",
    "Load samples image"
   ]
  },
  {
   "cell_type": "code",
   "execution_count": null,
   "metadata": {},
   "outputs": [],
   "source": [
    "#samples_image = io.imread('./../../nih_images/samples_train.tif')\n",
    "samples_image = io.imread('./../../NIH/images/orig/samples_v2.tif')\n",
    "\n",
    "plt.figure(figsize=(10, 10))\n",
    "plt.imshow(samples_image);\n",
    "plt.title('Samples image');"
   ]
  },
  {
   "cell_type": "markdown",
   "metadata": {},
   "source": [
    "Image egmentation and binarization by thresholding"
   ]
  },
  {
   "cell_type": "code",
   "execution_count": null,
   "metadata": {},
   "outputs": [],
   "source": [
    "samples_binary = threshold(samples_image, algorithm='otsu')\n",
    "\n",
    "plt.figure(figsize=(10, 10))\n",
    "plt.imshow(samples_binary, cmap=plt.cm.gray);\n",
    "plt.title('Binary samples image');"
   ]
  },
  {
   "cell_type": "markdown",
   "metadata": {},
   "source": [
    "Comparing to the original samples image"
   ]
  },
  {
   "cell_type": "code",
   "execution_count": null,
   "metadata": {},
   "outputs": [],
   "source": [
    "fig, ax = plt.subplots(ncols=2, figsize=(15, 5), sharey=True)\n",
    "\n",
    "ax[0].imshow(samples_image, cmap=plt.cm.gray);\n",
    "ax[0].set_title('Original samples image');\n",
    "ax[1].imshow(samples_binary, cmap=plt.cm.gray)\n",
    "ax[1].set_title('Binary samples image');"
   ]
  },
  {
   "cell_type": "markdown",
   "metadata": {},
   "source": [
    "It is unecessary to filter noise from the samples image as long as the reference image is representative. Only the regions common in both the reference and the samples image will be retained during target region filtering. This means that any noise in the samples image will be discarded unless it overlaps with any region in the reference image.\n",
    "\n",
    "## Segmenting the clusters image \n",
    "\n",
    "Load image"
   ]
  },
  {
   "cell_type": "code",
   "execution_count": null,
   "metadata": {},
   "outputs": [],
   "source": [
    "#clusters = io.imread('./../../nih_images/clusters_train.tif')\n",
    "clusters = io.imread('./../../NIH/images/orig/membrane_v2.tif')\n",
    "\n",
    "\n",
    "plt.figure(figsize=(10, 10))\n",
    "plt.imshow(clusters);\n",
    "plt.title('Clusters image');"
   ]
  },
  {
   "cell_type": "markdown",
   "metadata": {},
   "source": [
    "Image egmentation and binarization by thresholding"
   ]
  },
  {
   "cell_type": "code",
   "execution_count": null,
   "metadata": {},
   "outputs": [],
   "source": [
    "clusters_binary = threshold(clusters, algorithm='yen')\n",
    "\n",
    "plt.figure(figsize=(10, 10))\n",
    "plt.imshow(clusters_binary, cmap=plt.cm.gray);\n",
    "plt.title('Binary clusters');"
   ]
  },
  {
   "cell_type": "markdown",
   "metadata": {},
   "source": [
    "Comparing the binary clusters image to the original\n"
   ]
  },
  {
   "cell_type": "code",
   "execution_count": null,
   "metadata": {},
   "outputs": [],
   "source": [
    "fig, ax = plt.subplots(ncols=2, figsize=(15, 5), sharey=True)\n",
    "\n",
    "ax[0].imshow(clusters, cmap=plt.cm.gray);\n",
    "ax[0].set_title('Original clusters');\n",
    "ax[1].imshow(clusters_binary, cmap=plt.cm.gray)\n",
    "ax[1].set_title('Binary clusters');"
   ]
  },
  {
   "cell_type": "markdown",
   "metadata": {},
   "source": [
    "Clear the image borders and broken membranes in the outer region"
   ]
  },
  {
   "cell_type": "code",
   "execution_count": null,
   "metadata": {},
   "outputs": [],
   "source": [
    "clusters_cleared = clear_borders(clusters_binary)\n",
    "\n",
    "plt.figure(figsize=(10, 10))\n",
    "plt.imshow(clusters_cleared, cmap=plt.cm.gray);\n",
    "plt.title('Cleared clusters');"
   ]
  },
  {
   "cell_type": "markdown",
   "metadata": {},
   "source": [
    "Remove image artifacts with areas less than a specified limit."
   ]
  },
  {
   "cell_type": "code",
   "execution_count": null,
   "metadata": {},
   "outputs": [],
   "source": [
    "clusters_filtered = region_selection(clusters_cleared, min_area=15000, max_area=400000)\n",
    "\n",
    "plt.figure(figsize=(10, 10))\n",
    "plt.imshow(clusters_filtered, cmap=plt.cm.gray);\n",
    "plt.title('Filtered clusters');"
   ]
  },
  {
   "cell_type": "markdown",
   "metadata": {},
   "source": [
    "Compare to cleared cluster image"
   ]
  },
  {
   "cell_type": "code",
   "execution_count": null,
   "metadata": {},
   "outputs": [],
   "source": [
    "fig, ax = plt.subplots(ncols=2, figsize=(15, 5), sharey=True)\n",
    "\n",
    "ax[0].imshow(clusters_cleared, cmap=plt.cm.gray);\n",
    "ax[0].set_title('Cleared clusters');\n",
    "ax[1].imshow(clusters_filtered, cmap=plt.cm.gray)\n",
    "ax[1].set_title('Filtered clusters');"
   ]
  },
  {
   "cell_type": "markdown",
   "metadata": {},
   "source": [
    "## Target regions filtering\n",
    "\n",
    "Compute an image by comparing the segmented regions in the reference and samples image while retaining only the overlapping regions."
   ]
  },
  {
   "cell_type": "code",
   "execution_count": null,
   "metadata": {},
   "outputs": [],
   "source": [
    "masked = join_segmentations(ref_filtered, samples_binary,)\n",
    "masks = np.unique(masked)\n",
    "classes = np.linspace(np.min(ref_filtered), np.max(ref_binary), masks.size)\n",
    "\n",
    "overlayed = np.zeros_like(ref_filtered, dtype=int)\n",
    "\n",
    "for num, mask in enumerate(masks):\n",
    "    overlayed[masked == mask] = int(classes[num])\n",
    "\n",
    "plt.figure(figsize=(10, 10))\n",
    "plt.imshow(overlayed, cmap=plt.cm.viridis);\n",
    "plt.title('Overlaying the reference and target image.');"
   ]
  },
  {
   "cell_type": "markdown",
   "metadata": {},
   "source": [
    "where:\n",
    "* purple = background\n",
    "* teal = samples regions\n",
    "* green = reference regions\n",
    "* yellow = samples + reference regions\n",
    "\n",
    "Computing the image containing only the yellow regions as image target regions"
   ]
  },
  {
   "cell_type": "code",
   "execution_count": null,
   "metadata": {},
   "outputs": [],
   "source": [
    "targets = select_targets(ref_filtered, samples_binary)\n",
    "\n",
    "plt.figure(figsize=(10, 10))\n",
    "plt.imshow(targets, cmap=plt.cm.gray);\n",
    "plt.title('Target regions.');"
   ]
  },
  {
   "cell_type": "markdown",
   "metadata": {},
   "source": [
    "Comparing to the overlayed image"
   ]
  },
  {
   "cell_type": "code",
   "execution_count": null,
   "metadata": {},
   "outputs": [],
   "source": [
    "fig, ax = plt.subplots(ncols=2, figsize=(15, 5), sharey=True)\n",
    "\n",
    "ax[0].imshow(overlayed, cmap=plt.cm.viridis);\n",
    "ax[0].set_title('Overlaying the reference and target image.');\n",
    "ax[1].imshow(targets , cmap=plt.cm.gray)\n",
    "ax[1].set_title('Target regions.');"
   ]
  },
  {
   "cell_type": "markdown",
   "metadata": {},
   "source": [
    "The regions of the binary image represents the target regions that will be assigned to clusters.\n",
    "\n",
    "## Clustering\n",
    "\n",
    "Labelling the cluster and target images"
   ]
  },
  {
   "cell_type": "code",
   "execution_count": null,
   "metadata": {},
   "outputs": [],
   "source": [
    "targets_labeled = region_labeling(targets)\n",
    "clusters_labeled = region_labeling(clusters_filtered)\n",
    "\n",
    "fig, ax = plt.subplots(ncols=2, figsize=(15, 5), sharey=True)\n",
    "\n",
    "ax[0].imshow(targets_labeled, cmap=plt.cm.hot);\n",
    "ax[0].set_title('Labeled targets.');\n",
    "ax[1].imshow(clusters_labeled , cmap=plt.cm.hot)\n",
    "ax[1].set_title('Labeled clusters.');"
   ]
  },
  {
   "cell_type": "markdown",
   "metadata": {},
   "source": [
    "Computing target region centroids and cluster region coordinates"
   ]
  },
  {
   "cell_type": "code",
   "execution_count": null,
   "metadata": {
    "collapsed": true
   },
   "outputs": [],
   "source": [
    "target_props = regionprops(targets_labeled)\n",
    "cluster_props = regionprops(clusters_labeled)\n",
    "\n",
    "target_centroids = OrderedDict()\n",
    "for num, props in enumerate(target_props):\n",
    "    target_id = num + 1\n",
    "    target_centroids[target_id] = (props.centroid)\n",
    "    \n",
    "region_coords = OrderedDict()  \n",
    "for num, props in enumerate(cluster_props):\n",
    "    region_id = num + 1\n",
    "    region_coords[region_id] = props.coords"
   ]
  },
  {
   "cell_type": "markdown",
   "metadata": {},
   "source": [
    "Visualizing the centroids overlaying the target regions"
   ]
  },
  {
   "cell_type": "code",
   "execution_count": null,
   "metadata": {},
   "outputs": [],
   "source": [
    "fig, ax = plt.subplots(figsize=(12, 12))\n",
    "ax.imshow(targets, interpolation='nearest', cmap=plt.cm.viridis)\n",
    "\n",
    "for centroid in target_centroids.values():\n",
    "    x0, y0 = centroid\n",
    "    ax.plot(y0, x0, 'g.', markersize=10)\n",
    "    \n",
    "ax.set_title('Target region centroids');"
   ]
  },
  {
   "cell_type": "markdown",
   "metadata": {},
   "source": [
    "Displaying the centroids of each target region in addition to labeled cluster regions"
   ]
  },
  {
   "cell_type": "code",
   "execution_count": null,
   "metadata": {},
   "outputs": [],
   "source": [
    "fig, ax = plt.subplots(figsize=(12, 12))\n",
    "ax.imshow(clusters_labeled, interpolation='nearest', cmap=plt.cm.viridis)\n",
    "\n",
    "for centroid in target_centroids.values():\n",
    "    x0, y0 = centroid\n",
    "    ax.plot(y0, x0, 'w.', markersize=10)\n",
    "    \n",
    "ax.set_title('Target centroids and cluster regions');"
   ]
  },
  {
   "cell_type": "markdown",
   "metadata": {},
   "source": [
    "Target centroid positions overlaying the binary version of the thresholded cluster image."
   ]
  },
  {
   "cell_type": "code",
   "execution_count": null,
   "metadata": {},
   "outputs": [],
   "source": [
    "fig, ax = plt.subplots(figsize=(12, 12))\n",
    "ax.imshow(clusters_binary, interpolation='nearest', cmap=plt.cm.gray)\n",
    "\n",
    "for centroid in target_centroids.values():\n",
    "    x0, y0 = centroid\n",
    "    ax.plot(y0, x0, 'r.', markersize=10)\n",
    "    \n",
    "ax.set_title('Target centroids and cluster regions');"
   ]
  },
  {
   "cell_type": "code",
   "execution_count": null,
   "metadata": {
    "collapsed": true
   },
   "outputs": [],
   "source": [
    "clusters = nearest_region_clustering(target_centroids, region_coords, distance_thresh=15)"
   ]
  },
  {
   "cell_type": "markdown",
   "metadata": {},
   "source": [
    "Filtering of target values due to distance threshold"
   ]
  },
  {
   "cell_type": "code",
   "execution_count": null,
   "metadata": {},
   "outputs": [],
   "source": [
    "fig, ax = plt.subplots(figsize=(12, 12))\n",
    "ax.imshow(clusters_labeled, interpolation='nearest', cmap=plt.cm.viridis)\n",
    "\n",
    "for region_id, centroids in clusters.items():\n",
    "    if not centroids:\n",
    "        continue\n",
    "    else:\n",
    "        x, y = list(zip(*centroids))\n",
    "        ax.scatter(y, x, c='w')\n",
    "        \n",
    "ax.set_title('Clustered target regions and cluster regions');"
   ]
  },
  {
   "cell_type": "markdown",
   "metadata": {},
   "source": [
    "The clustering results"
   ]
  },
  {
   "cell_type": "code",
   "execution_count": null,
   "metadata": {
    "collapsed": true
   },
   "outputs": [],
   "source": [
    "#for region_id, centroids in clusters.items():\n",
    "#    print('Region {}: {} targets'.format(region_id, len(centroids)))"
   ]
  },
  {
   "cell_type": "markdown",
   "metadata": {},
   "source": [
    "The total number of targets in the image"
   ]
  },
  {
   "cell_type": "code",
   "execution_count": null,
   "metadata": {},
   "outputs": [],
   "source": [
    "np.sum([len(centroids) for centroids in clusters.values()])"
   ]
  },
  {
   "cell_type": "code",
   "execution_count": null,
   "metadata": {
    "collapsed": true
   },
   "outputs": [],
   "source": []
  }
 ],
 "metadata": {
  "kernelspec": {
   "display_name": "Python [conda env:anaconda]",
   "language": "python",
   "name": "conda-env-anaconda-py"
  },
  "language_info": {
   "codemirror_mode": {
    "name": "ipython",
    "version": 3
   },
   "file_extension": ".py",
   "mimetype": "text/x-python",
   "name": "python",
   "nbconvert_exporter": "python",
   "pygments_lexer": "ipython3",
   "version": "3.6.3"
  }
 },
 "nbformat": 4,
 "nbformat_minor": 2
}
